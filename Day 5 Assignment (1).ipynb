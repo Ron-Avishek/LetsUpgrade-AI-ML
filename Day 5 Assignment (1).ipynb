{
 "cells": [
  {
   "cell_type": "markdown",
   "metadata": {},
   "source": [
    "# Question 1 : Write a Python program to find the first 20 non-even prime natural numbers."
   ]
  },
  {
   "cell_type": "code",
   "execution_count": 19,
   "metadata": {},
   "outputs": [
    {
     "name": "stdout",
     "output_type": "stream",
     "text": [
      " 2   3   5   7   11   13   17   19  "
     ]
    }
   ],
   "source": [
    "for prime_no in range (1, 20 + 1):\n",
    "    count = 0\n",
    "    for i in range(2, (prime_no//2 + 1)):\n",
    "        if(prime_no % i == 0):\n",
    "            count = count + 1\n",
    "            break\n",
    "\n",
    "    if (count == 0 and prime_no != 1):\n",
    "        print(\" %d\" %prime_no, end = '  ')"
   ]
  },
  {
   "cell_type": "markdown",
   "metadata": {},
   "source": [
    "# Question 2 : Write a Python program to implement 15 functions of string."
   ]
  },
  {
   "cell_type": "code",
   "execution_count": 17,
   "metadata": {},
   "outputs": [
    {
     "name": "stdout",
     "output_type": "stream",
     "text": [
      "Implementing 1st functions of string: Kolkata is the capital of west bengal and is known as city of joy.\n",
      "Implementing 2nd functions of string: 2\n",
      "Implementing 3rd functions of string: 31\n",
      "Implementing 4th functions of string: False\n",
      "Implementing 5th functions of string: False\n",
      "Implementing 6th functions of string: kolkata is the capital of west bengal and is known as city of joy.\n",
      "Implementing 7th functions of string: 3\n",
      "Implementing 8th functions of string: KOLKATA IS THE CAPITAL OF WEST BENGAL AND IS KNOWN AS CITY OF JOY.\n",
      "Implementing 9th functions of string: False\n",
      "Implementing 10th functions of string: Kolkoto is the copitol of West Bengol ond is known os city of joy.\n",
      "Implementing 11th functions of string: kOLKATA IS THE CAPITAL OF wEST bENGAL AND IS KNOWN AS CITY OF JOY.\n",
      "Implementing 12th functions of string: False\n",
      "Implementing 13th functions of string: False\n",
      "Implementing 14th functions of string: False\n",
      "Implementing 15th functions of string: kolkata is the capital of west bengal and is known as city of joy.\n"
     ]
    }
   ],
   "source": [
    "a=\"Kolkata is the capital of West Bengal and is known as city of joy.\"\n",
    "print (\"Implementing 1st functions of string:\", a.capitalize())\n",
    "print (\"Implementing 2nd functions of string:\", a.count(\"is\"))\n",
    "print (\"Implementing 3rd functions of string:\", a.index(\"Bengal\"))\n",
    "print (\"Implementing 4th functions of string:\", a.islower())\n",
    "print (\"Implementing 5th functions of string:\", a.isalnum())\n",
    "print (\"Implementing 6th functions of string:\", a.lower())\n",
    "print (\"Implementing 7th functions of string:\", a.find('k'))\n",
    "print (\"Implementing 8th functions of string:\", a.upper())\n",
    "print (\"Implementing 9th functions of string:\", a.isnumeric())\n",
    "print (\"Implementing 10th functions of string:\", a.replace('a', 'o'))\n",
    "print (\"Implementing 11th functions of string:\", a.swapcase())\n",
    "print (\"Implementing 12th functions of string:\", a.isdecimal())\n",
    "print (\"Implementing 13th functions of string:\", a.islower())\n",
    "print (\"Implementing 14th functions of string:\", a.isupper())\n",
    "print (\"Implementing 15th functions of string:\", a.casefold())"
   ]
  },
  {
   "cell_type": "markdown",
   "metadata": {},
   "source": [
    "# Question 3: Write a Python program to check if the given string is a Palindrome or Anagram or None of them. Display the message accordingly to the user."
   ]
  },
  {
   "cell_type": "code",
   "execution_count": 31,
   "metadata": {},
   "outputs": [
    {
     "name": "stdout",
     "output_type": "stream",
     "text": [
      "Enter a word: Silent\n",
      "Enter a word to check anagram: Listen\n",
      "The sting is Anagram\n"
     ]
    }
   ],
   "source": [
    "a=input(\"Enter a word: \")\n",
    "b=input(\"Enter a word to check anagram: \")\n",
    "a = a.casefold()\n",
    "a1 = list(a.casefold())\n",
    "a1.sort()\n",
    "b1 = list(b.casefold())\n",
    "b1.sort()\n",
    "if a == a[len(a)-1:0:-1]:\n",
    "    print(\"The sting is Palindrome\")\n",
    "elif a1==b1:\n",
    "    print(\"The sting is Anagram\")\n",
    "else:\n",
    "    print(\"The sting is not Palindrome or Anagram\")"
   ]
  },
  {
   "cell_type": "markdown",
   "metadata": {},
   "source": [
    "# Question 4:\n",
    "## Write a Python's user-defined function that removes all the additional characters from the string and convert it finally to lower case using built-in lower(). eg: If the string is \"Dr. Darshan Ingle @AIML Trainer\", then the output be \"drdarshaningleaimltrainer\"."
   ]
  },
  {
   "cell_type": "code",
   "execution_count": 18,
   "metadata": {},
   "outputs": [
    {
     "name": "stdout",
     "output_type": "stream",
     "text": [
      "drdarshaningleaimltrainer\n"
     ]
    }
   ],
   "source": [
    "def characters(a):\n",
    "    a = a.casefold()\n",
    "    output = \"\"\n",
    "    for char in a:\n",
    "        if char.isalnum():\n",
    "            output += char\n",
    "    print(output)\n",
    "            \n",
    "characters(\"Dr. Darshan Ingle @AIML Trainer\")"
   ]
  },
  {
   "cell_type": "code",
   "execution_count": null,
   "metadata": {},
   "outputs": [],
   "source": []
  }
 ],
 "metadata": {
  "kernelspec": {
   "display_name": "Python 3",
   "language": "python",
   "name": "python3"
  },
  "language_info": {
   "codemirror_mode": {
    "name": "ipython",
    "version": 3
   },
   "file_extension": ".py",
   "mimetype": "text/x-python",
   "name": "python",
   "nbconvert_exporter": "python",
   "pygments_lexer": "ipython3",
   "version": "3.8.3"
  }
 },
 "nbformat": 4,
 "nbformat_minor": 4
}
