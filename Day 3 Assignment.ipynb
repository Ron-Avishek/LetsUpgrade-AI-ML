{
 "cells": [
  {
   "cell_type": "markdown",
   "metadata": {},
   "source": [
    "# Question 1: Write a program to subtract two complex numbers in Python."
   ]
  },
  {
   "cell_type": "code",
   "execution_count": 4,
   "metadata": {},
   "outputs": [
    {
     "name": "stdout",
     "output_type": "stream",
     "text": [
      "The sum of complex no is:  (-2+1j)\n"
     ]
    }
   ],
   "source": [
    "a=3+7j\n",
    "b=5+6j\n",
    "print(\"The sum of complex no is: \", a-b)"
   ]
  },
  {
   "cell_type": "markdown",
   "metadata": {},
   "source": [
    "# Question 2 : Write a program to find the fourth root of a number."
   ]
  },
  {
   "cell_type": "code",
   "execution_count": 6,
   "metadata": {},
   "outputs": [
    {
     "name": "stdout",
     "output_type": "stream",
     "text": [
      "Enter a number: 4\n",
      "The fourth root of a number is:  256\n"
     ]
    }
   ],
   "source": [
    "a=int(input(\"Enter a number: \"))\n",
    "root=a**4\n",
    "print(\"The fourth root of a number is: \", root)"
   ]
  },
  {
   "cell_type": "markdown",
   "metadata": {},
   "source": [
    "# Question 3: Write a program to swap two numbers in Python with the help of a temporary variable."
   ]
  },
  {
   "cell_type": "code",
   "execution_count": 10,
   "metadata": {},
   "outputs": [
    {
     "name": "stdout",
     "output_type": "stream",
     "text": [
      "Enter a number: 4\n",
      "Enter a number: 5\n",
      "The swap two numbers is:  5   4\n"
     ]
    }
   ],
   "source": [
    "a=int(input(\"Enter a number: \"))\n",
    "b=int(input(\"Enter a number: \"))\n",
    "temp=b\n",
    "b=a\n",
    "a=temp\n",
    "print(\"The swap two numbers is: \", a, \" \", b)"
   ]
  },
  {
   "cell_type": "markdown",
   "metadata": {},
   "source": [
    "# Question 4: Write a program to swap two numbers in Python without using a temporary variable."
   ]
  },
  {
   "cell_type": "code",
   "execution_count": 12,
   "metadata": {},
   "outputs": [
    {
     "name": "stdout",
     "output_type": "stream",
     "text": [
      "Enter a number: 6\n",
      "Enter a number: 3\n",
      "The swap two numbers is:  3   6\n"
     ]
    }
   ],
   "source": [
    "a=int(input(\"Enter a number: \"))\n",
    "b=int(input(\"Enter a number: \"))\n",
    "a=a+b\n",
    "b=a-b\n",
    "a=a-b\n",
    "print(\"The swap two numbers is: \", a, \" \", b)"
   ]
  },
  {
   "cell_type": "markdown",
   "metadata": {},
   "source": [
    "# Question 5: Write a program to convert Fahrenheit to kelvin and celsius both."
   ]
  },
  {
   "cell_type": "code",
   "execution_count": 17,
   "metadata": {},
   "outputs": [
    {
     "name": "stdout",
     "output_type": "stream",
     "text": [
      "Enter a number in F: 45\n",
      "Fahrenheit to kelvin is 45 =  280.3722222222222\n",
      "Fahrenheit to kelvin is 45 =  7.222222222222222\n"
     ]
    }
   ],
   "source": [
    "a=int(input(\"Enter a number in F: \"))\n",
    "b=((a-32)*5)/9 + 273.15\n",
    "print(\"Fahrenheit to kelvin is\", a, \"= \", b)\n",
    "c=((a-32)*5)/9\n",
    "print(\"Fahrenheit to kelvin is\", a, \"= \", c)"
   ]
  },
  {
   "cell_type": "markdown",
   "metadata": {},
   "source": [
    "# Question 6: Write a program to demonstrate all the available data types in Python."
   ]
  },
  {
   "cell_type": "code",
   "execution_count": 29,
   "metadata": {},
   "outputs": [
    {
     "name": "stdout",
     "output_type": "stream",
     "text": [
      "Data types:  12 <class 'int'>\n",
      "Data types:  ron <class 'str'>\n",
      "Data types:  24.0 <class 'float'>\n",
      "Data types:  (4+6j) <class 'complex'>\n",
      "Data types:  True <class 'bool'>\n",
      "Data types:  [3, 4] <class 'list'>\n",
      "Data types:  (5, 4) <class 'tuple'>\n",
      "Data types:  {'name': 'ron'} <class 'dict'>\n"
     ]
    }
   ],
   "source": [
    "a=12\n",
    "b=\"ron\"\n",
    "c=24.0\n",
    "d=4+6j\n",
    "e=True\n",
    "f=[3,4]\n",
    "g=(5,4)\n",
    "h={'name': \"ron\"}\n",
    "\n",
    "print(\"Data types: \", a, type(a))\n",
    "print(\"Data types: \", b, type(b))\n",
    "print(\"Data types: \", c, type(c))\n",
    "print(\"Data types: \", d, type(d))\n",
    "print(\"Data types: \", e, type(e))\n",
    "print(\"Data types: \", f, type(f))\n",
    "print(\"Data types: \", g, type(g))\n",
    "print(\"Data types: \", h, type(h))"
   ]
  },
  {
   "cell_type": "code",
   "execution_count": null,
   "metadata": {},
   "outputs": [],
   "source": []
  }
 ],
 "metadata": {
  "kernelspec": {
   "display_name": "Python 3",
   "language": "python",
   "name": "python3"
  },
  "language_info": {
   "codemirror_mode": {
    "name": "ipython",
    "version": 3
   },
   "file_extension": ".py",
   "mimetype": "text/x-python",
   "name": "python",
   "nbconvert_exporter": "python",
   "pygments_lexer": "ipython3",
   "version": "3.8.3"
  }
 },
 "nbformat": 4,
 "nbformat_minor": 4
}
