{
 "cells": [
  {
   "cell_type": "markdown",
   "metadata": {},
   "source": [
    "### Question 2- Write a Python program to find maximum and minimum values in the dictionary. Do not use built-in min and max functions."
   ]
  },
  {
   "cell_type": "code",
   "execution_count": 1,
   "metadata": {},
   "outputs": [
    {
     "name": "stdout",
     "output_type": "stream",
     "text": [
      "The Minimum value of dictionary is 23\n",
      "The Maximum value of dictionary is 129\n"
     ]
    }
   ],
   "source": [
    "nos_dict = {'a': 45, 'b': 23, 'c':67 , 'd': 89, 'e':35, 'f':107, 'g': 129}\n",
    "nos = []\n",
    "for i in nos_dict.values():\n",
    "    nos.append(i)\n",
    "\n",
    "nos = sorted(nos)\n",
    "print(f'The Minimum value of dictionary is {nos[0]}')\n",
    "print(f'The Maximum value of dictionary is {nos[-1]}')"
   ]
  },
  {
   "cell_type": "markdown",
   "metadata": {},
   "source": [
    "### Question 1: Write a program to copy the contents of one file to another using a for loop. (Don’t use built-in copy function)"
   ]
  },
  {
   "cell_type": "code",
   "execution_count": 2,
   "metadata": {},
   "outputs": [
    {
     "name": "stdout",
     "output_type": "stream",
     "text": [
      "Yesterday was Friday. There was Lockdown to minimize the spread of COVID cases. \n",
      "Today is Saturday. The Lockdown is withdrawn for facilating NEET students to reach centre. \n",
      "Tomorrow is Sunday.\n"
     ]
    }
   ],
   "source": [
    "file1 = open('dairy.txt','w')\n",
    "file1.write('Yesterday was Friday. There was Lockdown to minimize the spread of COVID cases. \\nToday is Saturday. The Lockdown is withdrawn for facilating NEET students to reach centre. \\nTomorrow is Sunday.')\n",
    "file1.close()\n",
    "\n",
    "file1 = open('dairy.txt','r')\n",
    "file2 = open('dairy-copy.txt','a')\n",
    "for line in file1:\n",
    "    file2.write(line)\n",
    "file1.close()\n",
    "file2.close()\n",
    "\n",
    "\n",
    "file2 = open('dairy-copy.txt','r')\n",
    "i=file2.read()\n",
    "print(i)\n",
    "file2.close()\n"
   ]
  },
  {
   "cell_type": "code",
   "execution_count": null,
   "metadata": {},
   "outputs": [],
   "source": []
  }
 ],
 "metadata": {
  "kernelspec": {
   "display_name": "Python 3",
   "language": "python",
   "name": "python3"
  },
  "language_info": {
   "codemirror_mode": {
    "name": "ipython",
    "version": 3
   },
   "file_extension": ".py",
   "mimetype": "text/x-python",
   "name": "python",
   "nbconvert_exporter": "python",
   "pygments_lexer": "ipython3",
   "version": "3.8.3"
  }
 },
 "nbformat": 4,
 "nbformat_minor": 4
}
