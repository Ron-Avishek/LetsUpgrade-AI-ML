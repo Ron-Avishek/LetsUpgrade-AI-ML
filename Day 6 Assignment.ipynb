{
 "cells": [
  {
   "cell_type": "markdown",
   "metadata": {},
   "source": [
    "### Question 1- Assuming that we have some email addresses in the \"username@companyname.com\" format, please write a program to print the company name of a given email address. Both user names and company names are composed of letters only. Input Format: The first line of the input contains an email address. Output Format: Print the company name in a single line. Example; Input: john@google.com Output: google."
   ]
  },
  {
   "cell_type": "code",
   "execution_count": 5,
   "metadata": {},
   "outputs": [
    {
     "name": "stdout",
     "output_type": "stream",
     "text": [
      "Enter any mail address to find company: support@letsupgrade.co.in\n",
      "The name of the company is Letsupgrade\n"
     ]
    }
   ],
   "source": [
    "email=input(\"Enter any mail address to find company: \")\n",
    "comp=email.split(\"@\")[1].split(\".\")[0]\n",
    "print(\"The name of the company is\", comp.capitalize())"
   ]
  },
  {
   "cell_type": "markdown",
   "metadata": {},
   "source": [
    "### Question 2- Write a program that accepts a comma-separated sequence of words as input and prints the words in a comma-separated sequence after sorting them alphabetically. Input Format: The first line of input contains words separated by the comma. Output Format: Print the sorted words separated by the comma. Example: Input: without,hello,bag,world Output: bag,hello,without,world"
   ]
  },
  {
   "cell_type": "code",
   "execution_count": 40,
   "metadata": {},
   "outputs": [
    {
     "name": "stdout",
     "output_type": "stream",
     "text": [
      "Enter words with comma seperated: without,hello,bag,world\n",
      "Sorted data are: bag,hello,without,world,"
     ]
    }
   ],
   "source": [
    "words=input(\"Enter words with comma seperated: \").split(',')\n",
    "list1=sorted(words)\n",
    "print(\"Sorted data are: \", end=\"\")\n",
    "for i in range(0,len(list1)):\n",
    "     print(list1[i], end=',')"
   ]
  },
  {
   "cell_type": "markdown",
   "metadata": {},
   "source": [
    "### Question 3- Create your own Jupyter Notebook for Sets. Reference link: https://www.w3schools.com/python/python_sets.asp"
   ]
  },
  {
   "cell_type": "code",
   "execution_count": 22,
   "metadata": {},
   "outputs": [
    {
     "name": "stdout",
     "output_type": "stream",
     "text": [
      "{'apple', 'cherry', 'banana'}\n",
      "apple\n",
      "cherry\n",
      "banana\n",
      "{'apple', 'cherry', 'banana', 'grapes'}\n",
      "{'guava', 'banana', 'apple', 'cherry', 'grapes'}\n",
      "5\n",
      "{'guava', 'banana', 'apple', 'grapes'}\n",
      "{'guava', 'banana', 'grapes'}\n",
      "guava\n",
      "{'banana', 'grapes'}\n",
      "set()\n",
      "{1, 2, 3, 'c', 'a', 'b'}\n"
     ]
    }
   ],
   "source": [
    "ex_set={\"apple\", \"banana\", \"cherry\"}\n",
    "print(ex_set)\n",
    "\n",
    "for x in ex_set:\n",
    "  print(x)\n",
    "\n",
    "ex_set.add(\"grapes\")\n",
    "print(ex_set)\n",
    "\n",
    "ex_set.update([\"banana\",\"guava\"])\n",
    "print(ex_set)\n",
    "\n",
    "print(len(ex_set))\n",
    "\n",
    "ex_set.remove(\"cherry\")\n",
    "print(ex_set)\n",
    "\n",
    "ex_set.discard(\"apple\")\n",
    "print(ex_set)\n",
    "\n",
    "y = ex_set.pop()\n",
    "print(y)\n",
    "print(ex_set)\n",
    "\n",
    "ex_set.clear()\n",
    "print(ex_set)\n",
    "\n",
    "set1 = {\"a\", \"b\" , \"c\"}\n",
    "set2 = {1, 2, 3}\n",
    "set3 = set1.union(set2)\n",
    "print(set3)"
   ]
  },
  {
   "cell_type": "markdown",
   "metadata": {},
   "source": [
    "### Question 4- Given a list of n-1 numbers ranging from 1 to n, your task is to find the missing number. There are no duplicates. Input Format: The first line contains n-1 numbers with each number separated by a space. Output Format: Print the missing number Example: Input: 1 2 4 6 3 7 8 Output: 5 Explanation: In the above list of numbers 5 is missing and hence 5 is the input"
   ]
  },
  {
   "cell_type": "code",
   "execution_count": 38,
   "metadata": {},
   "outputs": [
    {
     "name": "stdout",
     "output_type": "stream",
     "text": [
      "Enter a sequence of numbers with space: 3 6 5 7 2 9 1 11 17\n",
      "Missing numbers are: 4 8 10 12 13 14 15 16 "
     ]
    }
   ],
   "source": [
    "mis_nos=input(\"Enter a sequence of numbers with space: \")\n",
    "print(\"Missing numbers are: \", end=\"\")\n",
    "nos1=[int(i) for i in mis_nos.split(\" \")]\n",
    "list2=[]\n",
    "for j in range(nos1[0], nos1[-1]+1):\n",
    "    list2.append(j)\n",
    "    if j not in nos1:\n",
    "        print(j, end=\" \")"
   ]
  },
  {
   "cell_type": "markdown",
   "metadata": {},
   "source": [
    "### Question 5- With a given list L, write a program to print this list L after removing all duplicate values with original order reserved. Example: If the input list is 12 24 35 24 88 120 155 88 120 155 Then the output should be 12 24 35 88 120 155 Explanation: Third, the seventh and ninth element of the list L has been removed because it was already present. Input Format: In one line take the elements of the list L with each element separated by a space. Output Format: Print the elements of the modified list in one line with each element separated by a space. Example: Input: 12 24 35 24 Output: 12 24 35"
   ]
  },
  {
   "cell_type": "code",
   "execution_count": 39,
   "metadata": {},
   "outputs": [
    {
     "name": "stdout",
     "output_type": "stream",
     "text": [
      "Enter a sequence of numbers with space: 12 24 35 24 88 120 155 88 120 155\n",
      "Duplicate numbers are: 12 24 35 88 120 155 "
     ]
    }
   ],
   "source": [
    "dup_nos=list(map(int,input(\"Enter a sequence of numbers with space: \").split(\" \")))\n",
    "print(\"Duplicate numbers are: \", end=\"\")\n",
    "dup_nos = list(set(dup_nos))\n",
    "dup_nos.sort()\n",
    "for i in dup_nos:\n",
    "    print(i, end=' ')"
   ]
  },
  {
   "cell_type": "code",
   "execution_count": null,
   "metadata": {},
   "outputs": [],
   "source": []
  }
 ],
 "metadata": {
  "kernelspec": {
   "display_name": "Python 3",
   "language": "python",
   "name": "python3"
  },
  "language_info": {
   "codemirror_mode": {
    "name": "ipython",
    "version": 3
   },
   "file_extension": ".py",
   "mimetype": "text/x-python",
   "name": "python",
   "nbconvert_exporter": "python",
   "pygments_lexer": "ipython3",
   "version": "3.8.3"
  }
 },
 "nbformat": 4,
 "nbformat_minor": 4
}
