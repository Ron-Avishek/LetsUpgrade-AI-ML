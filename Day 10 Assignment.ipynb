{
 "cells": [
  {
   "cell_type": "markdown",
   "metadata": {},
   "source": [
    "### Question 1: Create an element-wise comparison (greater, greater_equal, less and less_equal) of two given arrays."
   ]
  },
  {
   "cell_type": "code",
   "execution_count": 40,
   "metadata": {},
   "outputs": [
    {
     "name": "stdout",
     "output_type": "stream",
     "text": [
      "1st Array of numbers:  [45 34 23 48 78 57]\n",
      "2nd Array of numbers:  [ 59  23  33 109  87  91]\n",
      "Comparison to check 'greater than' between two arrays:  [False  True False False False False]\n",
      "Comparison to check 'greater_equal' between two arrays:  [False  True False False False False]\n",
      "Comparison to check 'less than' between two arrays:  [ True False  True  True  True  True]\n",
      "Comparison to check 'less_equal' between two arrays:  [ True False  True  True  True  True]\n"
     ]
    }
   ],
   "source": [
    "import numpy as np\n",
    "a = np.array([45,34,23,48,78,57])\n",
    "b = np.array([59,23,33,109,87,91])\n",
    "print(\"1st Array of numbers: \", a)\n",
    "print(\"2nd Array of numbers: \", b)\n",
    "print(\"Comparison to check 'greater than' between two arrays: \", np.greater(a, b))\n",
    "print(\"Comparison to check 'greater_equal' between two arrays: \", np.greater_equal(a, b))\n",
    "print(\"Comparison to check 'less than' between two arrays: \", np.less(a, b))\n",
    "print(\"Comparison to check 'less_equal' between two arrays: \", np.less_equal(a, b))"
   ]
  },
  {
   "cell_type": "markdown",
   "metadata": {},
   "source": [
    "### Question 2: Write a NumPy program to create an array of 10 zeros,10 ones, 10 fives"
   ]
  },
  {
   "cell_type": "code",
   "execution_count": 7,
   "metadata": {},
   "outputs": [
    {
     "name": "stdout",
     "output_type": "stream",
     "text": [
      "An array of 10 zeros:  [0. 0. 0. 0. 0. 0. 0. 0. 0. 0.]\n",
      "An array of 10 ones:  [1. 1. 1. 1. 1. 1. 1. 1. 1. 1.]\n",
      "An array of 10 fives:  [5. 5. 5. 5. 5. 5. 5. 5. 5. 5.]\n"
     ]
    }
   ],
   "source": [
    "import numpy as np\n",
    "c=np.zeros(10)\n",
    "print(\"An array of 10 zeros: \", c)\n",
    "d=np.ones(10)\n",
    "print(\"An array of 10 ones: \", d)\n",
    "e=np.ones(10)*5\n",
    "print(\"An array of 10 fives: \", e)"
   ]
  },
  {
   "cell_type": "markdown",
   "metadata": {},
   "source": [
    "### Question 3: Write a NumPy program to compute sum of all elements, sum of each column and sum of each row of a given array."
   ]
  },
  {
   "cell_type": "code",
   "execution_count": 10,
   "metadata": {},
   "outputs": [
    {
     "name": "stdout",
     "output_type": "stream",
     "text": [
      "Array of numbers: \n",
      " [[ 765  342  985  456]\n",
      " [ 658  856  395  957]\n",
      " [7453  843 9364 4364]]\n",
      "Sum of all elements:  27438\n",
      "Sum of each column:  [ 8876  2041 10744  5777]\n",
      "Sum of each row:  [ 2548  2866 22024]\n"
     ]
    }
   ],
   "source": [
    "import numpy as np\n",
    "f = np.array([[765,342,985,456],[658,856,395,957],[7453,843,9364,4364]])\n",
    "print(\"Array of numbers: \\n\", f)\n",
    "print(\"Sum of all elements: \", np.sum(f))\n",
    "print(\"Sum of each column: \", np.sum(f, axis=0))\n",
    "print(\"Sum of each row: \", np.sum(f, axis=1))"
   ]
  },
  {
   "cell_type": "markdown",
   "metadata": {},
   "source": [
    "### Question 4: Write a NumPy program to add, subtract, multiply, divide arguments element-wise."
   ]
  },
  {
   "cell_type": "code",
   "execution_count": 12,
   "metadata": {},
   "outputs": [
    {
     "name": "stdout",
     "output_type": "stream",
     "text": [
      "Addition of two arrays: \n",
      " [[ 1530   684  1970   912]\n",
      " [ 1316  1712   790  1914]\n",
      " [14906  1686 18728  8728]]\n",
      "Subtraction of two arrays: \n",
      " [[0 0 0 0]\n",
      " [0 0 0 0]\n",
      " [0 0 0 0]]\n",
      "Multiplicaition of two arrays: \n",
      " [[  585225   116964   970225   207936]\n",
      " [  432964   732736   156025   915849]\n",
      " [55547209   710649 87684496 19044496]]\n",
      "Division of two arrays: \n",
      " [[1. 1. 1. 1.]\n",
      " [1. 1. 1. 1.]\n",
      " [1. 1. 1. 1.]]\n"
     ]
    }
   ],
   "source": [
    "import numpy as np\n",
    "g = np.array([[765,342,985,456],[658,856,395,957],[7453,843,9364,4364]])\n",
    "print(\"Addition of two arrays: \\n\", np.add(f, g))\n",
    "print(\"Subtraction of two arrays: \\n\", np.subtract(f, g))\n",
    "print(\"Multiplicaition of two arrays: \\n\", np.multiply(f, g))\n",
    "print(\"Division of two arrays: \\n\", np.divide(f, g))"
   ]
  },
  {
   "cell_type": "markdown",
   "metadata": {},
   "source": [
    "### Question 5: Write a NumPy program to compute the trigonometric sine, cosine and tangent array of angles given in degree."
   ]
  },
  {
   "cell_type": "code",
   "execution_count": 14,
   "metadata": {},
   "outputs": [
    {
     "name": "stdout",
     "output_type": "stream",
     "text": [
      "sine of angles in array given in degrees:  [0.70710678 0.5591929  0.39073113 0.74314483 0.9781476  0.83867057]\n",
      "cosine of angles in array given in degrees:  [0.70710678 0.82903757 0.92050485 0.66913061 0.20791169 0.54463904]\n",
      "tangent of angles in array given in degrees:  [1.         0.67450852 0.42447482 1.11061251 4.70463011 1.53986496]\n"
     ]
    }
   ],
   "source": [
    "import numpy as np\n",
    "print(\"sine of angles in array given in degrees: \", np.sin(np.array(a) * np.pi / 180.))\n",
    "print(\"cosine of angles in array given in degrees: \", np.cos(np.array(a) * np.pi / 180.))\n",
    "print(\"tangent of angles in array given in degrees: \", np.tan(np.array(a) * np.pi / 180.))"
   ]
  },
  {
   "cell_type": "markdown",
   "metadata": {},
   "source": [
    "### Question 6: Write a Pandas program to create and display a DataFrame from a specified dictionary data which has the index labels."
   ]
  },
  {
   "cell_type": "code",
   "execution_count": 24,
   "metadata": {},
   "outputs": [
    {
     "name": "stdout",
     "output_type": "stream",
     "text": [
      "  Names  Physics  Chemistry  Algebra\n",
      "1  Somu       68         84       78\n",
      "2  Kiku       74         56       88\n",
      "3  Amol       77         73       82\n",
      "4  Lini       78         69       87\n",
      "5   Ram       87         91       97\n"
     ]
    }
   ],
   "source": [
    "import pandas as pd\n",
    "import numpy as np\n",
    "\n",
    "marks = {'Names': ['Somu', 'Kiku', 'Amol', 'Lini', 'Ram'], 'Physics': [68, 74, 77, 78, 87], 'Chemistry': [84, 56, 73, 69, 91], 'Algebra': [78, 88, 82, 87, 97]}\n",
    "sl_no = ['1', '2', '3', '4', '5']\n",
    "\n",
    "h = pd.DataFrame(marks , index=sl_no)\n",
    "print(h)"
   ]
  },
  {
   "cell_type": "markdown",
   "metadata": {},
   "source": [
    "### Question 7: Write a Pandas program to select the 'name' and 'score' columns from the following DataFrame."
   ]
  },
  {
   "cell_type": "code",
   "execution_count": 30,
   "metadata": {},
   "outputs": [
    {
     "name": "stdout",
     "output_type": "stream",
     "text": [
      "Required columns: \n",
      "   Names  Total Score\n",
      "1  Somu          230\n",
      "2  Kiku          224\n",
      "3  Amol          232\n",
      "4  Lini          234\n",
      "5   Ram          275\n"
     ]
    }
   ],
   "source": [
    "import pandas as pd\n",
    "import numpy as np\n",
    "\n",
    "marks1 = {'Names': ['Somu', 'Kiku', 'Amol', 'Lini', 'Ram'], 'Physics': [68, 74, 77, 78, 87], 'Chemistry': [84, 56, 73, 69, 91], 'Algebra': [78, 88, 82, 87, 97], 'Total Score': [230, 224, 232, 234, 275]}\n",
    "sl_no = ['1', '2', '3', '4', '5']\n",
    "\n",
    "h = pd.DataFrame(marks1 , index=sl_no)\n",
    "print(\"Required columns: \\n\", h[['Names', 'Total Score']])"
   ]
  },
  {
   "cell_type": "markdown",
   "metadata": {},
   "source": [
    "### Question 8: Write a Pandas program to join the two given dataframes along rows and assign all data."
   ]
  },
  {
   "cell_type": "code",
   "execution_count": 38,
   "metadata": {},
   "outputs": [
    {
     "name": "stdout",
     "output_type": "stream",
     "text": [
      "Joining the two given dataframes along rows: \n",
      "     Names  Physics  Chemistry  Algebra  Total Score\n",
      "0    Somu       68         84       78          230\n",
      "1    Kiku       74         56       88          224\n",
      "2    Amol       77         73       82          232\n",
      "3    Lini       78         69       87          234\n",
      "4     Ram       87         91       97          275\n",
      "0   Tinku       68         84       78          230\n",
      "1    Miku       74         56       88          224\n",
      "2  Shymol       77         73       82          232\n",
      "3     Ani       78         69       87          234\n",
      "4     Lal       87         91       97          275\n"
     ]
    }
   ],
   "source": [
    "import pandas as pd\n",
    "import numpy as np\n",
    "\n",
    "marks1 = pd.DataFrame({'Names': ['Somu', 'Kiku', 'Amol', 'Lini', 'Ram'], 'Physics': [68, 74, 77, 78, 87], 'Chemistry': [84, 56, 73, 69, 91], 'Algebra': [78, 88, 82, 87, 97], 'Total Score': [230, 224, 232, 234, 275]})\n",
    "\n",
    "marks2 = pd.DataFrame({'Names': ['Tinku', 'Miku', 'Shymol', 'Ani', 'Lal'], 'Physics': [68, 74, 77, 78, 87], 'Chemistry': [84, 56, 73, 69, 91], 'Algebra': [78, 88, 82, 87, 97], 'Total Score': [230, 224, 232, 234, 275]})\n",
    "\n",
    "final_marks = pd.concat([marks1, marks2])\n",
    "print(\"Joining the two given dataframes along rows: \\n\", final_marks)"
   ]
  },
  {
   "cell_type": "markdown",
   "metadata": {},
   "source": [
    "### Question 9: Write a Pandas program to detect missing values of a given DataFrame. Display True or False."
   ]
  },
  {
   "cell_type": "code",
   "execution_count": 37,
   "metadata": {},
   "outputs": [
    {
     "name": "stdout",
     "output_type": "stream",
     "text": [
      "Missing values of the two given dataframes: \n",
      "    Names  Physics  Chemistry  Algebra  Total Score\n",
      "0  False    False      False    False        False\n",
      "1  False     True      False    False        False\n",
      "2  False    False       True    False        False\n",
      "3  False    False      False     True         True\n",
      "4  False    False      False    False        False\n",
      "0  False    False      False    False        False\n",
      "1  False    False      False     True         True\n",
      "2  False    False      False    False        False\n",
      "3  False     True       True    False        False\n",
      "4  False    False      False    False        False\n"
     ]
    }
   ],
   "source": [
    "import pandas as pd\n",
    "import numpy as np\n",
    "\n",
    "marks3 = pd.DataFrame({'Names': ['Somu', 'Kiku', 'Amol', 'Lini', 'Ram'], 'Physics': [68, np.nan, 77, 78, 87], 'Chemistry': [84, 56, np.nan, 69, 91], 'Algebra': [78, 88, 82, np.nan, 97], 'Total Score': [230, 224, 232, np.nan, 275]})\n",
    "\n",
    "marks4 = pd.DataFrame({'Names': ['Tinku', 'Miku', 'Shymol', 'Ani', 'Lal'], 'Physics': [68, 74, 77, np.nan, 87], 'Chemistry': [84, 56, 73, np.nan, 91], 'Algebra': [78, np.nan, 82, 87, 97], 'Total Score': [230, np.nan, 232, 234, 275]})\n",
    "\n",
    "final_marks1 = pd.concat([marks3, marks4])\n",
    "print(\"Missing values of the two given dataframes: \\n\", final_marks1.isna())"
   ]
  },
  {
   "cell_type": "markdown",
   "metadata": {},
   "source": [
    "### Question 10: Write a Pandas program to create and display a one-dimensional array-like object containing an array of data."
   ]
  },
  {
   "cell_type": "code",
   "execution_count": 44,
   "metadata": {},
   "outputs": [
    {
     "name": "stdout",
     "output_type": "stream",
     "text": [
      "One-dimensional array-like object containing an array of data:\n",
      " 0    45\n",
      "1    34\n",
      "2    23\n",
      "3    48\n",
      "4    78\n",
      "5    57\n",
      "dtype: int32\n"
     ]
    }
   ],
   "source": [
    "import pandas as pd\n",
    "a1 = [45,34,23,48,78,57]\n",
    "print(\"One-dimensional array-like object containing an array of data:\\n\", pd.Series(a))"
   ]
  },
  {
   "cell_type": "code",
   "execution_count": null,
   "metadata": {},
   "outputs": [],
   "source": []
  }
 ],
 "metadata": {
  "kernelspec": {
   "display_name": "Python 3",
   "language": "python",
   "name": "python3"
  },
  "language_info": {
   "codemirror_mode": {
    "name": "ipython",
    "version": 3
   },
   "file_extension": ".py",
   "mimetype": "text/x-python",
   "name": "python",
   "nbconvert_exporter": "python",
   "pygments_lexer": "ipython3",
   "version": "3.8.3"
  }
 },
 "nbformat": 4,
 "nbformat_minor": 4
}
